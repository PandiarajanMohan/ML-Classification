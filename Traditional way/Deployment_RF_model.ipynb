{
 "cells": [
  {
   "cell_type": "code",
   "execution_count": 5,
   "id": "bd7e533b-324e-4254-84d5-aebd120d2301",
   "metadata": {},
   "outputs": [],
   "source": [
    "import pandas as pd\n",
    "import pickle\n",
    "loadmodel=pickle.load(open(\"model_RF_clf.sac\",'rb'))"
   ]
  },
  {
   "cell_type": "code",
   "execution_count": 7,
   "id": "957bf32a-5c0c-4260-88cf-e1321d62e2bd",
   "metadata": {},
   "outputs": [
    {
     "data": {
      "text/plain": [
       "array([0], dtype=int64)"
      ]
     },
     "execution_count": 7,
     "metadata": {},
     "output_type": "execute_result"
    }
   ],
   "source": [
    "new_input=pd.DataFrame([[30,116000,0]],columns=['Age', 'EstimatedSalary', 'Gender_Male'])\n",
    "loadmodel.predict(new_input)"
   ]
  },
  {
   "cell_type": "code",
   "execution_count": null,
   "id": "765b536d-2d4b-448b-ab98-bf14be8b4b58",
   "metadata": {},
   "outputs": [],
   "source": []
  }
 ],
 "metadata": {
  "kernelspec": {
   "display_name": "Python 3 (ipykernel)",
   "language": "python",
   "name": "python3"
  },
  "language_info": {
   "codemirror_mode": {
    "name": "ipython",
    "version": 3
   },
   "file_extension": ".py",
   "mimetype": "text/x-python",
   "name": "python",
   "nbconvert_exporter": "python",
   "pygments_lexer": "ipython3",
   "version": "3.12.7"
  }
 },
 "nbformat": 4,
 "nbformat_minor": 5
}
